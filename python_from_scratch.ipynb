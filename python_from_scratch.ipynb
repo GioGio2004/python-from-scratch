{
  "nbformat": 4,
  "nbformat_minor": 0,
  "metadata": {
    "colab": {
      "provenance": [],
      "authorship_tag": "ABX9TyPAa8SKn9FNnN6v48/1V3Ux",
      "include_colab_link": true
    },
    "kernelspec": {
      "name": "python3",
      "display_name": "Python 3"
    },
    "language_info": {
      "name": "python"
    }
  },
  "cells": [
    {
      "cell_type": "markdown",
      "metadata": {
        "id": "view-in-github",
        "colab_type": "text"
      },
      "source": [
        "<a href=\"https://colab.research.google.com/github/GioGio2004/python-from-scratch/blob/main/python_from_scratch.ipynb\" target=\"_parent\"><img src=\"https://colab.research.google.com/assets/colab-badge.svg\" alt=\"Open In Colab\"/></a>"
      ]
    },
    {
      "cell_type": "markdown",
      "source": [
        "this is python documentation from scratch"
      ],
      "metadata": {
        "id": "7Bo_kdkNTMHR"
      }
    },
    {
      "cell_type": "code",
      "execution_count": 2,
      "metadata": {
        "colab": {
          "base_uri": "https://localhost:8080/"
        },
        "id": "gTIqWCnxRjAW",
        "outputId": "5142d6e7-2d06-4bbe-97d5-adfee443cd55"
      },
      "outputs": [
        {
          "output_type": "stream",
          "name": "stdout",
          "text": [
            "hello world\n"
          ]
        }
      ],
      "source": [
        "print(\"hello world\")"
      ]
    },
    {
      "cell_type": "code",
      "source": [
        "# prompt: python code\n",
        "\n",
        "# This is a Python comment. Comments start with a hash symbol (#) and are ignored by the Python interpreter.\n",
        "\n",
        "# This is a Python print statement. It prints the string \"Hello, world!\" to the console.\n",
        "print(\"Hello, world!\")\n",
        "\n",
        "# This is a Python variable assignment statement. It assigns the value 10 to the variable x.\n",
        "x = 10\n",
        "\n",
        "# This is a Python expression statement. It evaluates the expression x + 5 and prints the result to the console.\n",
        "print(x + 5)\n",
        "\n",
        "# This is a Python conditional statement. It checks if the value of x is greater than 5. If it is, it prints \"x is greater than 5\" to the console.\n",
        "if x > 5:\n",
        "  print(\"x is greater than 5\")\n",
        "\n",
        "# This is a Python loop statement. It iterates over the list [1, 2, 3, 4, 5] and prints each element to the console.\n",
        "for i in [1, 2, 3, 4, 5]:\n",
        "  print(i)\n",
        "\n",
        "# This is a Python function definition statement. It defines a function called my_function that takes one argument, y. The function prints the value of y to the console.\n",
        "def my_function(y):\n",
        "  print(y)\n",
        "\n",
        "# This is a Python function call statement. It calls the function my_function with the argument 10.\n",
        "my_function(10)\n"
      ],
      "metadata": {
        "id": "MrgbhKrGTZsW"
      },
      "execution_count": null,
      "outputs": []
    },
    {
      "cell_type": "code",
      "source": [
        "x = [\"girogi\", \"saba\", \"nana\"]\n",
        "\n",
        "y = 4\n",
        "if y == 2:\n",
        "  print(\"hello world\")\n",
        "elif y == 4:\n",
        "  print(\"hello saba\")\n",
        "else:\n",
        "  print(\"hello\")\n",
        "\n",
        "condition = True\n",
        "while condition:\n",
        "  print('hello')\n",
        "  increment = 0\n",
        "  for i in x:\n",
        "    print(i)\n",
        "    increment += 1\n",
        "    if i == \"nana\":\n",
        "      condition = False\n",
        "      print(f\"while loop was stoped. number of iterations {increment}\")\n",
        "\n",
        "\n",
        "# print(x[2])\n",
        "# print(type(x))"
      ],
      "metadata": {
        "colab": {
          "base_uri": "https://localhost:8080/"
        },
        "id": "69XcEW4oTuQK",
        "outputId": "75cc8c3b-c9f8-4a8d-e842-f57fb9ec62e7"
      },
      "execution_count": 35,
      "outputs": [
        {
          "output_type": "stream",
          "name": "stdout",
          "text": [
            "hello saba\n",
            "hello\n",
            "girogi\n",
            "saba\n",
            "nana\n",
            "while loop was stoped. number of iterations 3\n"
          ]
        }
      ]
    },
    {
      "cell_type": "markdown",
      "source": [
        "functions in python"
      ],
      "metadata": {
        "id": "B455OfjCYBOG"
      }
    },
    {
      "cell_type": "code",
      "source": [
        "def abyss(x = 12, y = 218):\n",
        "  z = x * y\n",
        "  return z\n",
        "\n",
        "x = input(\"whats your name\")\n",
        "y = 12\n",
        "\n",
        "abyss(x, y)\n",
        "\n"
      ],
      "metadata": {
        "colab": {
          "base_uri": "https://localhost:8080/",
          "height": 54
        },
        "id": "naNar-3LYQA3",
        "outputId": "91858eab-ed64-460e-ad1e-7a8d2578b9e5"
      },
      "execution_count": 54,
      "outputs": [
        {
          "name": "stdout",
          "output_type": "stream",
          "text": [
            "whats your namesaba-\n"
          ]
        },
        {
          "output_type": "execute_result",
          "data": {
            "text/plain": [
              "'saba-saba-saba-saba-saba-saba-saba-saba-saba-saba-saba-saba-'"
            ],
            "application/vnd.google.colaboratory.intrinsic+json": {
              "type": "string"
            }
          },
          "metadata": {},
          "execution_count": 54
        }
      ]
    },
    {
      "cell_type": "code",
      "source": [
        "fruits = [\"g\", \"p\", \"s\", \"k\"]\n",
        "x = lambda y: y\n",
        "print(x(1, 4))"
      ],
      "metadata": {
        "colab": {
          "base_uri": "https://localhost:8080/"
        },
        "id": "ooPbDwOuaXqh",
        "outputId": "94d1a04a-0566-4c0c-939d-327574d1b719"
      },
      "execution_count": 56,
      "outputs": [
        {
          "output_type": "stream",
          "name": "stdout",
          "text": [
            "4\n"
          ]
        }
      ]
    },
    {
      "cell_type": "code",
      "source": [
        "# prompt: give me map function in lambda function\n",
        "\n",
        "fruits = [\"grape\", \"pear\", \"strawberry\", \"kiwi\"]\n",
        "f = lambda x: x.capitalize()\n",
        "print(list(map(f, fruits)))\n"
      ],
      "metadata": {
        "id": "jBNz_VmNb6Ld"
      },
      "execution_count": null,
      "outputs": []
    },
    {
      "cell_type": "markdown",
      "source": [
        "Classes in python"
      ],
      "metadata": {
        "id": "ERf8vZanb6y4"
      }
    },
    {
      "cell_type": "code",
      "source": [
        "# prompt: give me python class example with inheritance\n",
        "\n",
        "class Vehicle():\n",
        "  def __init__(self, make, model, year):\n",
        "    self.make = make\n",
        "    self.model = model\n",
        "    self.year = year\n",
        "\n",
        "  def start(self):\n",
        "    print(\"The car has started.\")\n",
        "\n",
        "  def stop(self):\n",
        "    print(\"The car has stopped.\")\n",
        "\n",
        "class Car(Vehicle):\n",
        "  def __init__(self, make, model, year, num_doors):\n",
        "    super().__init__(make, model, year)\n",
        "    self.num_doors = num_doors\n",
        "\n",
        "  def open_doors(self):\n",
        "    print(\"The doors have opened.\")\n",
        "\n",
        "  def close_doors(self):\n",
        "    print(\"The doors have closed.\")\n",
        "\n",
        "class Truck(Vehicle):\n",
        "  def __init__(self, make, model, year, towing_capacity):\n",
        "    super().__init__(make, model, year)\n",
        "    self.towing_capacity = towing_capacity\n",
        "\n",
        "  def tow(self):\n",
        "    print(\"The truck is towing.\")\n",
        "\n",
        "# Create a car object\n",
        "car = Car(\"Toyota\", \"Camry\", 2020, 4)\n",
        "\n",
        "# Call the methods of the car object\n",
        "car.start()\n",
        "car.open_doors()\n",
        "car.close_doors()\n",
        "car.stop()\n",
        "\n",
        "# Create a truck object\n",
        "truck = Truck(\"Ford\", \"F-150\", 2018, 10000)\n",
        "\n",
        "# Call the methods of the truck object\n",
        "truck.start()\n",
        "truck.tow()\n",
        "truck.stop()\n"
      ],
      "metadata": {
        "colab": {
          "base_uri": "https://localhost:8080/"
        },
        "id": "YKfgA5n7cKse",
        "outputId": "532fc785-f909-497a-a1ad-f2826f12d066"
      },
      "execution_count": 61,
      "outputs": [
        {
          "output_type": "stream",
          "name": "stdout",
          "text": [
            "The car has started.\n",
            "The doors have opened.\n",
            "The doors have closed.\n",
            "12 12\n",
            "The car has stopped.\n",
            "The car has started.\n",
            "The truck is towing.\n",
            "12 12\n",
            "The car has stopped.\n"
          ]
        }
      ]
    },
    {
      "cell_type": "markdown",
      "source": [
        "# prompt: what is __init__ function\n",
        "\n",
        "The `__init__` function is a special function in Python that is called when an object is created. It is used to initialize the object's attributes.\n",
        "\n",
        "For example, the following class defines an `__init__` function that takes two arguments, `name` and `age`, and assigns them to the object's `name` and `age` attributes:\n",
        "\n"
      ],
      "metadata": {
        "id": "r6B6Q_mNcdUa"
      }
    }
  ]
}